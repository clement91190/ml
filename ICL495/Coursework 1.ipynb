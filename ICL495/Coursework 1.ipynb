{
 "metadata": {
  "name": "Coursework 1"
 },
 "nbformat": 3,
 "nbformat_minor": 0,
 "worksheets": [
  {
   "cells": [
    {
     "cell_type": "heading",
     "level": 3,
     "metadata": {},
     "source": [
      "Import some useful things..."
     ]
    },
    {
     "cell_type": "code",
     "collapsed": false,
     "input": [
      "%pylab inline"
     ],
     "language": "python",
     "metadata": {},
     "outputs": [
      {
       "output_type": "stream",
       "stream": "stdout",
       "text": [
        "\n",
        "Welcome to pylab, a matplotlib-based Python environment [backend: module://IPython.zmq.pylab.backend_inline].\n",
        "For more information, type 'help(pylab)'.\n"
       ]
      }
     ],
     "prompt_number": 1
    },
    {
     "cell_type": "code",
     "collapsed": false,
     "input": [
      "from pca import get_U_for_PCA, get_U_for_whitened_PCA\n",
      "from lda import get_U_for_LDA\n",
      "from ica import get_U_for_fast_ICA\n",
      "from npp import get_U_for_NPP\n",
      "\n",
      "from utils import load_data, center\n",
      "#import numpy as np\n",
      "#import matplotlib.pyplot as plt\n",
      "from sklearn import neighbors"
     ],
     "language": "python",
     "metadata": {},
     "outputs": [],
     "prompt_number": 2
    },
    {
     "cell_type": "heading",
     "level": 3,
     "metadata": {},
     "source": [
      "Loading the data\n"
     ]
    },
    {
     "cell_type": "code",
     "collapsed": false,
     "input": [
      "train, fea, gnd = load_data(\"YALEB\")\n"
     ],
     "language": "python",
     "metadata": {},
     "outputs": [
      {
       "output_type": "stream",
       "stream": "stdout",
       "text": [
        " ...loading data\n"
       ]
      }
     ],
     "prompt_number": 3
    },
    {
     "cell_type": "heading",
     "level": 3,
     "metadata": {},
     "source": [
      "definition of functions to prepare the data and to evaluate the associated error"
     ]
    },
    {
     "cell_type": "code",
     "collapsed": false,
     "input": [
      "def prepare_data(train_idx, (train, fea, gnd), method='PCA'):\n",
      "    \"\"\" in this function we can chose which method to apply i\n",
      "        we return the training and testing low dimensional feature, \n",
      "        and associated class\n",
      "    \"\"\"\n",
      "    test_idx = list(set(range(fea.shape[0])) - set(train_idx))\n",
      "    fea_train = np.array([fea[i - 1] for i in train_idx])\n",
      "    gnd_train = np.array([gnd[i - 1, 0] for i in train_idx]).flatten()\n",
      "    gnd_train, fea_train = zip(*sorted(\n",
      "        zip(gnd_train, fea_train),\n",
      "        key=lambda (i, j): i))  # sorting per class \n",
      "    gnd_train, fea_train = np.array(gnd_train), np.array(fea_train)\n",
      "    \n",
      "    fea_test = np.array([fea[i - 1] for i in test_idx])\n",
      "    gnd_test = np.array([gnd[i - 1] for i in test_idx]).flatten()\n",
      "        \n",
      "    print \"method : \", method\n",
      "    methods = {'PCA' :get_U_for_PCA,\n",
      "        'WPCA' :get_U_for_whitened_PCA,\n",
      "        'FICA' :get_U_for_fast_ICA,\n",
      "        'LDA' :lambda train, d: get_U_for_LDA(train, gnd_train, d),\n",
      "        'NPP' :get_U_for_NPP }\n",
      "\n",
      "    U = methods[method](fea_train, 120)\n",
      "    #print \"shape of U :\", U.shape\n",
      "\n",
      "    fea_train_red = np.dot(center(fea_train), U)\n",
      "    fea_test_red = np.dot(center(fea_test), U)\n",
      "    #print \"size\", fea_train_red.shape\n",
      "    \n",
      "    #print fea_train_red.shape\n",
      "    fea_train_red, fea_test_red = center(fea_train_red), center(fea_test_red)\n",
      "    return (fea_train_red, fea_test_red, gnd_train, gnd_test)"
     ],
     "language": "python",
     "metadata": {},
     "outputs": [],
     "prompt_number": 8
    },
    {
     "cell_type": "code",
     "collapsed": false,
     "input": [
      "def test_features(fea_train_red, fea_test_red, gnd_train, gnd_test):\n",
      "    \"\"\" function to test the feature on a classification algorithm and return the error,\n",
      "    \"\"\"\n",
      "    correct = []\n",
      "    print \"...training\"\n",
      "    size = gnd_test.shape[0]\n",
      "    feat_size = range(0, fea_test_red.shape[1], 3) \n",
      "    for i in feat_size:\n",
      "        #print i\n",
      "        X = fea_train_red[:,:i+1]\n",
      "        Y = gnd_train\n",
      "        n_neighbors = 2\n",
      "        weights = 'distance'\n",
      "        clf = neighbors.KNeighborsClassifier(n_neighbors, weights=weights)\n",
      "        clf.fit(X, Y)\n",
      "        prediction = clf.predict(fea_test_red[:, :i + 1])\n",
      "        correct.append(np.sum(prediction - gnd_test == 0))\n",
      "    correct = 1.0 * np.array(correct) / size\n",
      "    #print \"correct\", correct\n",
      "    return (1.0 - correct, feat_size) \n"
     ],
     "language": "python",
     "metadata": {},
     "outputs": [],
     "prompt_number": 9
    },
    {
     "cell_type": "markdown",
     "metadata": {},
     "source": [
      "Main loop"
     ]
    },
    {
     "cell_type": "code",
     "collapsed": false,
     "input": [
      "def graph(method='PCA'):\n",
      "\n",
      "    error = []\n",
      "    #print train;\n",
      "    for jj, train_idx in enumerate(train[:3]):\n",
      "        data = prepare_data(train_idx, (train, fea, gnd), method)\n",
      "        err, feat_size = test_features(*data) \n",
      "        error.append(err)\n",
      "    #print error\n",
      "    plt.plot(feat_size, np.mean(error, 0))\n",
      "    plt.title('Classification error : ' + method) \n",
      "    plt.show()\n",
      "    #return (feat_size, np.mean(error, 0))\n"
     ],
     "language": "python",
     "metadata": {},
     "outputs": [],
     "prompt_number": 10
    },
    {
     "cell_type": "code",
     "collapsed": false,
     "input": [
      "graph('PCA')"
     ],
     "language": "python",
     "metadata": {},
     "outputs": [
      {
       "output_type": "stream",
       "stream": "stdout",
       "text": [
        "method :  PCA\n",
        "..start analyses\n",
        "loss : 1.74897675352 %"
       ]
      },
      {
       "output_type": "stream",
       "stream": "stdout",
       "text": [
        "\n",
        "... done\n",
        "...training"
       ]
      },
      {
       "output_type": "stream",
       "stream": "stdout",
       "text": [
        "\n",
        "method : "
       ]
      },
      {
       "output_type": "stream",
       "stream": "stdout",
       "text": [
        " PCA\n",
        "..start analyses\n",
        "loss : 1.74052646739 %"
       ]
      },
      {
       "output_type": "stream",
       "stream": "stdout",
       "text": [
        "\n",
        "... done\n",
        "...training"
       ]
      },
      {
       "output_type": "stream",
       "stream": "stdout",
       "text": [
        "\n",
        "method : "
       ]
      },
      {
       "output_type": "stream",
       "stream": "stdout",
       "text": [
        " PCA\n",
        "..start analyses\n",
        "loss : 1.91243928944 %"
       ]
      },
      {
       "output_type": "stream",
       "stream": "stdout",
       "text": [
        "\n",
        "... done\n",
        "...training"
       ]
      },
      {
       "output_type": "stream",
       "stream": "stdout",
       "text": [
        "\n"
       ]
      },
      {
       "output_type": "display_data",
       "png": "[encoded data removed]"
      }
     ],
     "prompt_number": 58
    },
    {
     "cell_type": "code",
     "collapsed": false,
     "input": [
      "graph('WPCA')"
     ],
     "language": "python",
     "metadata": {},
     "outputs": [
      {
       "output_type": "stream",
       "stream": "stdout",
       "text": [
        "method :  WPCA\n",
        "loss : 1.74897675352 %"
       ]
      },
      {
       "output_type": "stream",
       "stream": "stdout",
       "text": [
        "\n",
        "...training"
       ]
      },
      {
       "output_type": "stream",
       "stream": "stdout",
       "text": [
        "\n",
        "method : "
       ]
      },
      {
       "output_type": "stream",
       "stream": "stdout",
       "text": [
        " WPCA\n",
        "loss : 1.74052646739 %"
       ]
      },
      {
       "output_type": "stream",
       "stream": "stdout",
       "text": [
        "\n",
        "...training"
       ]
      },
      {
       "output_type": "stream",
       "stream": "stdout",
       "text": [
        "\n",
        "method : "
       ]
      },
      {
       "output_type": "stream",
       "stream": "stdout",
       "text": [
        " WPCA\n",
        "loss : 1.91243928944 %"
       ]
      },
      {
       "output_type": "stream",
       "stream": "stdout",
       "text": [
        "\n",
        "...training"
       ]
      },
      {
       "output_type": "stream",
       "stream": "stdout",
       "text": [
        "\n"
       ]
      },
      {
       "output_type": "display_data",
       "png": "[encoded data removed]"
      }
     ],
     "prompt_number": 59
    },
    {
     "cell_type": "code",
     "collapsed": false,
     "input": [
      "graph('LDA')"
     ],
     "language": "python",
     "metadata": {},
     "outputs": [
      {
       "output_type": "stream",
       "stream": "stdout",
       "text": [
        "method :  LDA\n",
        "...PCA to go to N-C dim space\n",
        "(38, 5, 189)"
       ]
      },
      {
       "output_type": "stream",
       "stream": "stdout",
       "text": [
        "\n",
        "(189, 189)"
       ]
      },
      {
       "output_type": "stream",
       "stream": "stdout",
       "text": [
        "\n",
        "...training"
       ]
      },
      {
       "output_type": "stream",
       "stream": "stdout",
       "text": [
        "\n",
        "method : "
       ]
      },
      {
       "output_type": "stream",
       "stream": "stdout",
       "text": [
        " LDA\n",
        "...PCA to go to N-C dim space\n",
        "(38, 5, 189)"
       ]
      },
      {
       "output_type": "stream",
       "stream": "stdout",
       "text": [
        "\n",
        "(189, 189)"
       ]
      },
      {
       "output_type": "stream",
       "stream": "stdout",
       "text": [
        "\n",
        "...training"
       ]
      },
      {
       "output_type": "stream",
       "stream": "stdout",
       "text": [
        "\n",
        "method : "
       ]
      },
      {
       "output_type": "stream",
       "stream": "stdout",
       "text": [
        " LDA\n",
        "...PCA to go to N-C dim space\n",
        "(38, 5, 189)"
       ]
      },
      {
       "output_type": "stream",
       "stream": "stdout",
       "text": [
        "\n",
        "(189, 189)"
       ]
      },
      {
       "output_type": "stream",
       "stream": "stdout",
       "text": [
        "\n",
        "...training"
       ]
      },
      {
       "output_type": "stream",
       "stream": "stdout",
       "text": [
        "\n"
       ]
      },
      {
       "output_type": "display_data",
       "png": "[encoded data removed]"
      },
      {
       "output_type": "pyout",
       "prompt_number": 11,
       "text": [
        "([0,\n",
        "  3,\n",
        "  6,\n",
        "  9,\n",
        "  12,\n",
        "  15,\n",
        "  18,\n",
        "  21,\n",
        "  24,\n",
        "  27,\n",
        "  30,\n",
        "  33,\n",
        "  36,\n",
        "  39,\n",
        "  42,\n",
        "  45,\n",
        "  48,\n",
        "  51,\n",
        "  54,\n",
        "  57,\n",
        "  60,\n",
        "  63,\n",
        "  66,\n",
        "  69,\n",
        "  72,\n",
        "  75,\n",
        "  78,\n",
        "  81,\n",
        "  84,\n",
        "  87,\n",
        "  90,\n",
        "  93,\n",
        "  96,\n",
        "  99,\n",
        "  102,\n",
        "  105,\n",
        "  108,\n",
        "  111,\n",
        "  114,\n",
        "  117],\n",
        " array([ 0.96492806,  0.95203837,  0.93435252,  0.91501799,  0.89598321,\n",
        "        0.88264388,  0.86630695,  0.85626499,  0.84742206,  0.83648082,\n",
        "        0.82763789,  0.80965228,  0.79811151,  0.78821942,  0.77293165,\n",
        "        0.76408873,  0.75359712,  0.73950839,  0.72661871,  0.72182254,\n",
        "        0.7116307 ,  0.70368705,  0.69799161,  0.6889988 ,  0.68015588,\n",
        "        0.67176259,  0.6611211 ,  0.65527578,  0.64793165,  0.64223621,\n",
        "        0.63669065,  0.63054556,  0.62470024,  0.61840528,  0.61450839,\n",
        "        0.60971223,  0.60626499,  0.6001199 ,  0.59772182,  0.59217626]))"
       ]
      }
     ],
     "prompt_number": 11
    },
    {
     "cell_type": "code",
     "collapsed": false,
     "input": [
      "graph('FICA')"
     ],
     "language": "python",
     "metadata": {},
     "outputs": [
      {
       "output_type": "stream",
       "stream": "stdout",
       "text": [
        "method :  FICA\n",
        "...PCA to go to N dim space\n",
        "loss : 0.0 %"
       ]
      },
      {
       "output_type": "stream",
       "stream": "stdout",
       "text": [
        "\n",
        "(1024, 189)"
       ]
      },
      {
       "output_type": "stream",
       "stream": "stdout",
       "text": [
        "\n",
        "...training"
       ]
      },
      {
       "output_type": "stream",
       "stream": "stdout",
       "text": [
        "\n",
        "method : "
       ]
      },
      {
       "output_type": "stream",
       "stream": "stdout",
       "text": [
        " FICA\n",
        "...PCA to go to N dim space\n",
        "loss : 0.0 %"
       ]
      },
      {
       "output_type": "stream",
       "stream": "stdout",
       "text": [
        "\n",
        "(1024, 189)"
       ]
      },
      {
       "output_type": "stream",
       "stream": "stdout",
       "text": [
        "\n",
        "...training"
       ]
      },
      {
       "output_type": "stream",
       "stream": "stdout",
       "text": [
        "\n",
        "method : "
       ]
      },
      {
       "output_type": "stream",
       "stream": "stdout",
       "text": [
        " FICA\n",
        "...PCA to go to N dim space\n",
        "loss : 0.0 %"
       ]
      },
      {
       "output_type": "stream",
       "stream": "stdout",
       "text": [
        "\n",
        "(1024, 189)"
       ]
      },
      {
       "output_type": "stream",
       "stream": "stdout",
       "text": [
        "\n",
        "...training"
       ]
      },
      {
       "output_type": "stream",
       "stream": "stdout",
       "text": [
        "\n"
       ]
      },
      {
       "output_type": "display_data",
       "png": "[encoded data removed]"
      }
     ],
     "prompt_number": 61
    },
    {
     "cell_type": "code",
     "collapsed": false,
     "input": [
      "graph('NPP')"
     ],
     "language": "python",
     "metadata": {},
     "outputs": [
      {
       "output_type": "stream",
       "stream": "stdout",
       "text": [
        "method :  NPP\n",
        "...PCA to go to N dim space\n",
        "..start analyses\n",
        "loss : 0.0 %"
       ]
      },
      {
       "output_type": "stream",
       "stream": "stdout",
       "text": [
        "\n",
        "... done\n",
        "... compute graph matrix"
       ]
      },
      {
       "output_type": "stream",
       "stream": "stdout",
       "text": [
        "\n",
        "(190, 190)\n",
        "(190, 190)"
       ]
      },
      {
       "output_type": "stream",
       "stream": "stdout",
       "text": [
        " (190, 190)\n",
        "rank of Xred :  189\n",
        "checking shapes ...\n",
        "(190, 189) (190, 190)\n",
        " checking singular ?  189\n",
        "(189, 189)\n",
        "(189, 80)\n",
        "...training"
       ]
      },
      {
       "output_type": "stream",
       "stream": "stdout",
       "text": [
        "\n",
        "method : "
       ]
      },
      {
       "output_type": "stream",
       "stream": "stdout",
       "text": [
        " NPP\n",
        "...PCA to go to N dim space\n",
        "..start analyses\n",
        "loss : 0.0 %"
       ]
      },
      {
       "output_type": "stream",
       "stream": "stdout",
       "text": [
        "\n",
        "... done\n",
        "... compute graph matrix"
       ]
      },
      {
       "output_type": "stream",
       "stream": "stdout",
       "text": [
        "\n",
        "(190, 190)\n",
        "(190, 190)"
       ]
      },
      {
       "output_type": "stream",
       "stream": "stdout",
       "text": [
        " (190, 190)\n",
        "rank of Xred :  189\n",
        "checking shapes ...\n",
        "(190, 189) (190, 190)\n",
        " checking singular ?  189\n",
        "(189, 189)\n",
        "(189, 80)\n",
        "...training"
       ]
      },
      {
       "output_type": "stream",
       "stream": "stdout",
       "text": [
        "\n",
        "method : "
       ]
      },
      {
       "output_type": "stream",
       "stream": "stdout",
       "text": [
        " NPP\n",
        "...PCA to go to N dim space\n",
        "..start analyses\n",
        "loss : 0.0 %"
       ]
      },
      {
       "output_type": "stream",
       "stream": "stdout",
       "text": [
        "\n",
        "... done\n",
        "... compute graph matrix"
       ]
      },
      {
       "output_type": "stream",
       "stream": "stdout",
       "text": [
        "\n",
        "(190, 190)\n",
        "(190, 190)"
       ]
      },
      {
       "output_type": "stream",
       "stream": "stdout",
       "text": [
        " (190, 190)\n",
        "rank of Xred :  189\n",
        "checking shapes ...\n",
        "(190, 189) (190, 190)\n",
        " checking singular ?  189\n",
        "(189, 189)\n",
        "(189, 80)\n",
        "...training"
       ]
      },
      {
       "output_type": "stream",
       "stream": "stdout",
       "text": [
        "\n"
       ]
      },
      {
       "output_type": "display_data",
       "png": "[encoded data removed]"
      }
     ],
     "prompt_number": 62
    },
    {
     "cell_type": "code",
     "collapsed": false,
     "input": [],
     "language": "python",
     "metadata": {},
     "outputs": []
    }
   ],
   "metadata": {}
  }
 ]
}