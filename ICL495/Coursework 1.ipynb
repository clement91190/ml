{
 "metadata": {
  "name": "Coursework 1"
 },
 "nbformat": 3,
 "nbformat_minor": 0,
 "worksheets": [
  {
   "cells": [
    {
     "cell_type": "heading",
     "level": 3,
     "metadata": {},
     "source": [
      "Coursework 1"
     ]
    },
    {
     "cell_type": "markdown",
     "metadata": {},
     "source": [
      "To run the code, \n",
      "- type : ipython notebook in a terminal in the folder ( if uninstalled : sudo apt-get install python-numpy python-scipy python-matplotlib ipython ipython-notebook python-pandas python-sympy python-nose ) \n",
      "- run instruction after instruction (shortcut -> shift + enter)"
     ]
    },
    {
     "cell_type": "code",
     "collapsed": false,
     "input": [
      "%pylab inline"
     ],
     "language": "python",
     "metadata": {},
     "outputs": [
      {
       "output_type": "stream",
       "stream": "stdout",
       "text": [
        "\n",
        "Welcome to pylab, a matplotlib-based Python environment [backend: module://IPython.zmq.pylab.backend_inline].\n",
        "For more information, type 'help(pylab)'.\n"
       ]
      }
     ],
     "prompt_number": 1
    },
    {
     "cell_type": "code",
     "collapsed": false,
     "input": [
      "from pca import get_U_for_PCA, get_U_for_whitened_PCA\n",
      "from lda import get_U_for_LDA\n",
      "from ica import get_U_for_fast_ICA\n",
      "from npp import get_U_for_NPP\n",
      "\n",
      "from utils import load_data, center\n",
      "#import numpy as np\n",
      "#import matplotlib.pyplot as plt\n",
      "from sklearn import neighbors"
     ],
     "language": "python",
     "metadata": {},
     "outputs": [],
     "prompt_number": 2
    },
    {
     "cell_type": "heading",
     "level": 3,
     "metadata": {},
     "source": [
      "Loading the data\n"
     ]
    },
    {
     "cell_type": "code",
     "collapsed": false,
     "input": [
      "path_to_yaleb = \"data/YALEB/\"\n",
      "train, fea, gnd = load_data(\"data/YALEB/\")\n"
     ],
     "language": "python",
     "metadata": {},
     "outputs": [
      {
       "output_type": "stream",
       "stream": "stdout",
       "text": [
        " ...loading data\n"
       ]
      }
     ],
     "prompt_number": 3
    },
    {
     "cell_type": "heading",
     "level": 3,
     "metadata": {},
     "source": [
      "definition of functions to prepare the data and to evaluate the associated error"
     ]
    },
    {
     "cell_type": "code",
     "collapsed": false,
     "input": [
      "def prepare_data(train_idx, (train, fea, gnd), method='PCA'):\n",
      "    \"\"\" in this function we can chose which method to apply i\n",
      "        we return the training and testing low dimensional feature, \n",
      "        and associated class\n",
      "    \"\"\"\n",
      "    test_idx = list(set(range(fea.shape[0])) - set(train_idx))\n",
      "    fea_train = np.array([fea[i - 1] for i in train_idx])\n",
      "    gnd_train = np.array([gnd[i - 1, 0] for i in train_idx]).flatten()\n",
      "    gnd_train, fea_train = zip(*sorted(\n",
      "        zip(gnd_train, fea_train),\n",
      "        key=lambda (i, j): i))  # sorting per class \n",
      "    gnd_train, fea_train = np.array(gnd_train), np.array(fea_train)\n",
      "    \n",
      "    fea_test = np.array([fea[i - 1] for i in test_idx])\n",
      "    gnd_test = np.array([gnd[i - 1] for i in test_idx]).flatten()\n",
      "        \n",
      "    print \"method : \", method\n",
      "    methods = {'PCA' :get_U_for_PCA,\n",
      "        'WPCA' :get_U_for_whitened_PCA,\n",
      "        'FICA' :get_U_for_fast_ICA,\n",
      "        'LDA' :lambda train, d: get_U_for_LDA(train, gnd_train, d),\n",
      "        'NPP' :get_U_for_NPP }\n",
      "\n",
      "    U = methods[method](fea_train, 120)\n",
      "    #print \"shape of U :\", U.shape\n",
      "\n",
      "    fea_train_red = np.dot(center(fea_train), U)\n",
      "    fea_test_red = np.dot(center(fea_test), U)\n",
      "    #print \"size\", fea_train_red.shape\n",
      "    \n",
      "    #print fea_train_red.shape\n",
      "    fea_train_red, fea_test_red = center(fea_train_red), center(fea_test_red)\n",
      "    return (fea_train_red, fea_test_red, gnd_train, gnd_test)"
     ],
     "language": "python",
     "metadata": {},
     "outputs": [],
     "prompt_number": 4
    },
    {
     "cell_type": "code",
     "collapsed": false,
     "input": [
      "def test_features(fea_train_red, fea_test_red, gnd_train, gnd_test):\n",
      "    \"\"\" function to test the feature on a classification algorithm and return the error,\n",
      "    \"\"\"\n",
      "    correct = []\n",
      "    print \"...training\"\n",
      "    size = gnd_test.shape[0]\n",
      "    feat_size = range(0, fea_test_red.shape[1], 3) \n",
      "    for i in feat_size:\n",
      "        #print i\n",
      "        X = fea_train_red[:,:i+1]\n",
      "        Y = gnd_train\n",
      "        n_neighbors = 2\n",
      "        weights = 'distance'\n",
      "        clf = neighbors.KNeighborsClassifier(n_neighbors, weights=weights)\n",
      "        clf.fit(X, Y)\n",
      "        prediction = clf.predict(fea_test_red[:, :i + 1])\n",
      "        correct.append(np.sum(prediction - gnd_test == 0))\n",
      "    correct = 1.0 * np.array(correct) / size\n",
      "    #print \"correct\", correct\n",
      "    return (1.0 - correct, feat_size) \n"
     ],
     "language": "python",
     "metadata": {},
     "outputs": [],
     "prompt_number": 5
    },
    {
     "cell_type": "markdown",
     "metadata": {},
     "source": [
      "Main loop"
     ]
    },
    {
     "cell_type": "code",
     "collapsed": false,
     "input": [
      "def graph(method='PCA'):\n",
      "\n",
      "    error = []\n",
      "    #print train;\n",
      "    for jj, train_idx in enumerate(train[:3]):\n",
      "        data = prepare_data(train_idx, (train, fea, gnd), method)\n",
      "        err, feat_size = test_features(*data) \n",
      "        error.append(err)\n",
      "    #print error\n",
      "    plt.plot(feat_size, np.mean(error, 0))\n",
      "    plt.title('Classification error : ' + method) \n",
      "    plt.show()\n",
      "    #return (feat_size, np.mean(error, 0))\n"
     ],
     "language": "python",
     "metadata": {},
     "outputs": [],
     "prompt_number": 6
    },
    {
     "cell_type": "code",
     "collapsed": false,
     "input": [
      "graph('PCA')"
     ],
     "language": "python",
     "metadata": {},
     "outputs": [
      {
       "output_type": "stream",
       "stream": "stdout",
       "text": [
        "method :  PCA\n",
        "..start analyses\n",
        "... done"
       ]
      },
      {
       "output_type": "stream",
       "stream": "stdout",
       "text": [
        "\n",
        "...training"
       ]
      },
      {
       "output_type": "stream",
       "stream": "stdout",
       "text": [
        "\n",
        "method : "
       ]
      },
      {
       "output_type": "stream",
       "stream": "stdout",
       "text": [
        " PCA\n",
        "..start analyses\n",
        "... done"
       ]
      },
      {
       "output_type": "stream",
       "stream": "stdout",
       "text": [
        "\n",
        "...training"
       ]
      },
      {
       "output_type": "stream",
       "stream": "stdout",
       "text": [
        "\n",
        "method : "
       ]
      },
      {
       "output_type": "stream",
       "stream": "stdout",
       "text": [
        " PCA\n",
        "..start analyses\n",
        "... done"
       ]
      },
      {
       "output_type": "stream",
       "stream": "stdout",
       "text": [
        "\n",
        "...training"
       ]
      },
      {
       "output_type": "stream",
       "stream": "stdout",
       "text": [
        "\n"
       ]
      },
      {
       "output_type": "display_data",
       "png": "[encoded data removed]"
      }
     ],
     "prompt_number": 7
    },
    {
     "cell_type": "code",
     "collapsed": false,
     "input": [
      "graph('WPCA')"
     ],
     "language": "python",
     "metadata": {},
     "outputs": [
      {
       "output_type": "stream",
       "stream": "stdout",
       "text": [
        "method :  WPCA\n",
        "...training"
       ]
      },
      {
       "output_type": "stream",
       "stream": "stdout",
       "text": [
        "\n",
        "method : "
       ]
      },
      {
       "output_type": "stream",
       "stream": "stdout",
       "text": [
        " WPCA\n",
        "...training"
       ]
      },
      {
       "output_type": "stream",
       "stream": "stdout",
       "text": [
        "\n",
        "method : "
       ]
      },
      {
       "output_type": "stream",
       "stream": "stdout",
       "text": [
        " WPCA\n",
        "...training"
       ]
      },
      {
       "output_type": "stream",
       "stream": "stdout",
       "text": [
        "\n"
       ]
      },
      {
       "output_type": "display_data",
       "png": "[encoded data removed]"
      }
     ],
     "prompt_number": 8
    },
    {
     "cell_type": "code",
     "collapsed": false,
     "input": [
      "graph('LDA')"
     ],
     "language": "python",
     "metadata": {},
     "outputs": [
      {
       "output_type": "stream",
       "stream": "stdout",
       "text": [
        "method :  LDA\n",
        "...PCA to go to N-C dim space\n",
        "(38, 5, 189)"
       ]
      },
      {
       "output_type": "stream",
       "stream": "stdout",
       "text": [
        "\n",
        "(189, 189)"
       ]
      },
      {
       "output_type": "stream",
       "stream": "stdout",
       "text": [
        "\n",
        "...training"
       ]
      },
      {
       "output_type": "stream",
       "stream": "stdout",
       "text": [
        "\n",
        "method : "
       ]
      },
      {
       "output_type": "stream",
       "stream": "stdout",
       "text": [
        " LDA\n",
        "...PCA to go to N-C dim space\n",
        "(38, 5, 189)"
       ]
      },
      {
       "output_type": "stream",
       "stream": "stdout",
       "text": [
        "\n",
        "(189, 189)"
       ]
      },
      {
       "output_type": "stream",
       "stream": "stdout",
       "text": [
        "\n",
        "...training"
       ]
      },
      {
       "output_type": "stream",
       "stream": "stdout",
       "text": [
        "\n",
        "method : "
       ]
      },
      {
       "output_type": "stream",
       "stream": "stdout",
       "text": [
        " LDA\n",
        "...PCA to go to N-C dim space\n",
        "(38, 5, 189)"
       ]
      },
      {
       "output_type": "stream",
       "stream": "stdout",
       "text": [
        "\n",
        "(189, 189)"
       ]
      },
      {
       "output_type": "stream",
       "stream": "stdout",
       "text": [
        "\n",
        "...training"
       ]
      },
      {
       "output_type": "stream",
       "stream": "stdout",
       "text": [
        "\n"
       ]
      },
      {
       "output_type": "display_data",
       "png": "[encoded data removed]"
      }
     ],
     "prompt_number": 9
    },
    {
     "cell_type": "code",
     "collapsed": false,
     "input": [
      "graph('FICA')"
     ],
     "language": "python",
     "metadata": {},
     "outputs": [
      {
       "output_type": "stream",
       "stream": "stdout",
       "text": [
        "method :  FICA\n",
        "...PCA to go to N dim space\n",
        "...training"
       ]
      },
      {
       "output_type": "stream",
       "stream": "stdout",
       "text": [
        "\n",
        "method : "
       ]
      },
      {
       "output_type": "stream",
       "stream": "stdout",
       "text": [
        " FICA\n",
        "...PCA to go to N dim space\n",
        "...training"
       ]
      },
      {
       "output_type": "stream",
       "stream": "stdout",
       "text": [
        "\n",
        "method : "
       ]
      },
      {
       "output_type": "stream",
       "stream": "stdout",
       "text": [
        " FICA\n",
        "...PCA to go to N dim space\n",
        "...training"
       ]
      },
      {
       "output_type": "stream",
       "stream": "stdout",
       "text": [
        "\n"
       ]
      },
      {
       "output_type": "display_data",
       "png": "[encoded data removed]"
      }
     ],
     "prompt_number": 10
    },
    {
     "cell_type": "markdown",
     "metadata": {},
     "source": []
    },
    {
     "cell_type": "code",
     "collapsed": false,
     "input": [
      "graph('NPP')"
     ],
     "language": "python",
     "metadata": {},
     "outputs": [
      {
       "output_type": "stream",
       "stream": "stdout",
       "text": [
        "method :  NPP\n",
        "...PCA to go to N dim space\n",
        "... compute graph matrix"
       ]
      },
      {
       "output_type": "stream",
       "stream": "stdout",
       "text": [
        "\n",
        "...training"
       ]
      },
      {
       "output_type": "stream",
       "stream": "stdout",
       "text": [
        "\n",
        "method : "
       ]
      },
      {
       "output_type": "stream",
       "stream": "stdout",
       "text": [
        " NPP\n",
        "...PCA to go to N dim space\n",
        "... compute graph matrix"
       ]
      },
      {
       "output_type": "stream",
       "stream": "stdout",
       "text": [
        "\n",
        "...training"
       ]
      },
      {
       "output_type": "stream",
       "stream": "stdout",
       "text": [
        "\n",
        "method : "
       ]
      },
      {
       "output_type": "stream",
       "stream": "stdout",
       "text": [
        " NPP\n",
        "...PCA to go to N dim space\n",
        "... compute graph matrix"
       ]
      },
      {
       "output_type": "stream",
       "stream": "stdout",
       "text": [
        "\n",
        "...training"
       ]
      },
      {
       "output_type": "stream",
       "stream": "stdout",
       "text": [
        "\n"
       ]
      },
      {
       "output_type": "display_data",
       "png": "[encoded data removed]"
      }
     ],
     "prompt_number": 12
    },
    {
     "cell_type": "code",
     "collapsed": false,
     "input": [],
     "language": "python",
     "metadata": {},
     "outputs": []
    }
   ],
   "metadata": {}
  }
 ]
}