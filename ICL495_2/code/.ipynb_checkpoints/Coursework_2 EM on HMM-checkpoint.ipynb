{
 "metadata": {
  "name": ""
 },
 "nbformat": 3,
 "nbformat_minor": 0,
 "worksheets": [
  {
   "cells": [
    {
     "cell_type": "code",
     "collapsed": false,
     "input": [
      "from HmmGenerateData import hmm_generate_data, HMM\n",
      "import numpy as np"
     ],
     "language": "python",
     "metadata": {},
     "outputs": [],
     "prompt_number": 1
    },
    {
     "cell_type": "code",
     "collapsed": false,
     "input": [
      "#test of filtering and smoothing with the same result as on the slide \n",
      "N = 1         # number of sequences\n",
      "T = 4        # length of the sequence\n",
      "pi = np.array([0.5, 0.5])  # inital probability pi_1 = 0.5 and pi_2 =0.5\n",
      "n_state = 2\n",
      "n_letters = 2\n",
      "\n",
      "A = np.array([[0.5, 0.5], [0.5, 0.5]])\n",
      "E = np.array([[0.5, 0.5], [0.75, 0.25]])\n",
      "\n",
      "print \"pi: {}\".format(pi)\n",
      "print \"A: {}\".format(A)\n",
      "print \"E: {}\".format(E)\n",
      "\n",
      "Y = np.array([[0, 0, 1, 1]])\n",
      "\n",
      "hmm = HMM(Y, n_state, n_letters)\n",
      "hmm.cheat_init(E, A, pi)  # preinit to have the same results\n",
      "hmm.expect_max(debug=True)\n",
      "\n",
      "#press enter each time to check the values with the ones on the slides\n",
      "        "
     ],
     "language": "python",
     "metadata": {},
     "outputs": [
      {
       "output_type": "stream",
       "stream": "stdout",
       "text": [
        "pi: [ 0.5  0.5]\n",
        "A: [[ 0.5  0.5]\n",
        " [ 0.5  0.5]]\n",
        "E: [[ 0.5   0.5 ]\n",
        " [ 0.75  0.25]]\n",
        "a [[ 0.25        0.375     ]\n",
        " [ 0.15625     0.234375  ]\n",
        " [ 0.09765625  0.04882812]\n",
        " [ 0.03662109  0.01831055]]\n"
       ]
      },
      {
       "name": "stdout",
       "output_type": "stream",
       "stream": "stdout",
       "text": [
        "\n"
       ]
      },
      {
       "output_type": "stream",
       "stream": "stdout",
       "text": [
        "norm 0.054931640625\n"
       ]
      },
      {
       "name": "stdout",
       "output_type": "stream",
       "stream": "stdout",
       "text": [
        "\n"
       ]
      },
      {
       "output_type": "stream",
       "stream": "stdout",
       "text": [
        "b [[ 0.08789062  0.08789062]\n",
        " [ 0.140625    0.140625  ]\n",
        " [ 0.375       0.375     ]\n",
        " [ 1.          1.        ]]\n"
       ]
      },
      {
       "name": "stdout",
       "output_type": "stream",
       "stream": "stdout",
       "text": [
        "\n"
       ]
      },
      {
       "output_type": "stream",
       "stream": "stdout",
       "text": [
        "gamma [[ 0.4         0.6       ]\n",
        " [ 0.4         0.6       ]\n",
        " [ 0.66666667  0.33333333]\n",
        " [ 0.66666667  0.33333333]]\n"
       ]
      },
      {
       "name": "stdout",
       "output_type": "stream",
       "stream": "stdout",
       "text": [
        "\n"
       ]
      },
      {
       "output_type": "stream",
       "stream": "stdout",
       "text": [
        "ksi [[[ 0.16        0.24      ]\n",
        "  [ 0.24        0.36      ]]\n",
        "\n",
        " [[ 0.26666667  0.4       ]\n",
        "  [ 0.13333333  0.2       ]]\n",
        "\n",
        " [[ 0.44444444  0.22222222]\n",
        "  [ 0.22222222  0.11111111]]]\n"
       ]
      },
      {
       "name": "stdout",
       "output_type": "stream",
       "stream": "stdout",
       "text": [
        "\n"
       ]
      },
      {
       "output_type": "stream",
       "stream": "stdout",
       "text": [
        "pi [ 0.4  0.6]\n",
        "A [[ 0.5025641   0.4974359 ]\n",
        " [ 0.47017544  0.52982456]]\n",
        "E [[ 0.375       0.625     ]\n",
        " [ 0.64285714  0.35714286]]\n"
       ]
      }
     ],
     "prompt_number": 3
    },
    {
     "cell_type": "code",
     "collapsed": false,
     "input": [
      "# test of vitterbi decoding\n",
      "N  = 1         # number of sequences\n",
      "T  = 15        # length of the sequence\n",
      "pi = np.array([0.5, 0.5])  # inital probability pi_1 = 0.5 and pi_2 =0.5\n",
      "n_state = 2\n",
      "n_letters = 6\n",
      "\n",
      "#two states hence A is a 2X2 matrix \n",
      "A  = np.array([[0.5, 0.5 ], [0.5, 0.5]])  #p(y_t|y_{t-1})\n",
      "\n",
      "#E = np.array([[ 95.0 / 100] + [1.0 / 100 for i in range(5)], [1.0 / 100 for i in range(5)] + [95.0 / 100.0]])\n",
      "E = np.array([[1.0 / 6 for i in range(6)], [1.0 / 10 for i in range(5)] + [0.5]])\n",
      "\n",
      "print \"pi: {}\".format(pi)\n",
      "print \"A: {}\".format(A)\n",
      "print \"E: {}\".format(E)\n",
      "\n",
      "[ Y, S ] = hmm_generate_data(N, T, pi, A, E ); \n",
      "\n",
      "\n",
      "hmm = HMM(Y, n_state, n_letters)\n",
      "hmm.cheat_init(E, A ,pi)  # we set theta. (we could use Baum Welch instead here) \n",
      "print Y[0]\n",
      "proba, winner_path = hmm.viterbi_algo(Y[0])\n",
      "print winner_path, \"should look like\", S[0]\n",
      "print [ S[0, i] == s for i, s in enumerate(winner_path)]\n",
      "\n"
     ],
     "language": "python",
     "metadata": {},
     "outputs": [
      {
       "output_type": "stream",
       "stream": "stdout",
       "text": [
        "pi: [ 0.5  0.5]\n",
        "A: [[ 0.5  0.5]\n",
        " [ 0.5  0.5]]\n",
        "E: [[ 0.16666667  0.16666667  0.16666667  0.16666667  0.16666667  0.16666667]\n",
        " [ 0.1         0.1         0.1         0.1         0.1         0.5       ]]\n",
        "[5 3 5 2 0 4 1 3 0 4 4 5 5 2 5]\n",
        "[1, 0, 1, 0, 0, 0, 0, 0, 0, 0, 0, 1, 1, 0, 1] should look like [0 1 1 0 0 1 0 0 0 0 0 1 0 0 1]\n",
        "[False, False, True, True, True, False, True, True, True, True, True, True, False, True, True]\n"
       ]
      }
     ],
     "prompt_number": 5
    },
    {
     "cell_type": "code",
     "collapsed": false,
     "input": [],
     "language": "python",
     "metadata": {},
     "outputs": [],
     "prompt_number": 10
    },
    {
     "cell_type": "code",
     "collapsed": false,
     "input": [],
     "language": "python",
     "metadata": {},
     "outputs": []
    }
   ],
   "metadata": {}
  }
 ]
}